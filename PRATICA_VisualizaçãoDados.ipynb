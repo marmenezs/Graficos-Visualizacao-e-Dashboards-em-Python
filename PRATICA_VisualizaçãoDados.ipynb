{
 "cells": [
  {
   "cell_type": "markdown",
   "metadata": {},
   "source": [
    "PRÁTICA - Análise exploratória de conjunto de dados"
   ]
  },
  {
   "cell_type": "code",
   "execution_count": 18,
   "metadata": {},
   "outputs": [],
   "source": [
    "import pandas as pd\n",
    "import matplotlib.pyplot as plt\n",
    "import seaborn as srn\n",
    "import numpy as np\n",
    "import statistics as sts"
   ]
  },
  {
   "cell_type": "code",
   "execution_count": 20,
   "metadata": {},
   "outputs": [
    {
     "data": {
      "text/html": [
       "<div>\n",
       "<style scoped>\n",
       "    .dataframe tbody tr th:only-of-type {\n",
       "        vertical-align: middle;\n",
       "    }\n",
       "\n",
       "    .dataframe tbody tr th {\n",
       "        vertical-align: top;\n",
       "    }\n",
       "\n",
       "    .dataframe thead th {\n",
       "        text-align: right;\n",
       "    }\n",
       "</style>\n",
       "<table border=\"1\" class=\"dataframe\">\n",
       "  <thead>\n",
       "    <tr style=\"text-align: right;\">\n",
       "      <th></th>\n",
       "      <th>CODIGO</th>\n",
       "      <th>MUNICIPIO</th>\n",
       "      <th>PIB</th>\n",
       "      <th>VALOREMPENHO</th>\n",
       "    </tr>\n",
       "  </thead>\n",
       "  <tbody>\n",
       "    <tr>\n",
       "      <th>0</th>\n",
       "      <td>106</td>\n",
       "      <td>SANTANA DO LIVRAMENTO</td>\n",
       "      <td>12240.76</td>\n",
       "      <td>1088666.10</td>\n",
       "    </tr>\n",
       "    <tr>\n",
       "      <th>1</th>\n",
       "      <td>113</td>\n",
       "      <td>SANTO ANGELO</td>\n",
       "      <td>16575.82</td>\n",
       "      <td>800669.92</td>\n",
       "    </tr>\n",
       "    <tr>\n",
       "      <th>2</th>\n",
       "      <td>118</td>\n",
       "      <td>SAO FRANCISCO DE ASSIS</td>\n",
       "      <td>12037.61</td>\n",
       "      <td>466122.80</td>\n",
       "    </tr>\n",
       "    <tr>\n",
       "      <th>3</th>\n",
       "      <td>13</td>\n",
       "      <td>CACAPAVA DO SUL</td>\n",
       "      <td>13674.54</td>\n",
       "      <td>485535.86</td>\n",
       "    </tr>\n",
       "    <tr>\n",
       "      <th>4</th>\n",
       "      <td>120</td>\n",
       "      <td>SAO GABRIEL</td>\n",
       "      <td>19912.38</td>\n",
       "      <td>533719.86</td>\n",
       "    </tr>\n",
       "  </tbody>\n",
       "</table>\n",
       "</div>"
      ],
      "text/plain": [
       "   CODIGO               MUNICIPIO       PIB  VALOREMPENHO\n",
       "0     106   SANTANA DO LIVRAMENTO  12240.76    1088666.10\n",
       "1     113            SANTO ANGELO  16575.82     800669.92\n",
       "2     118  SAO FRANCISCO DE ASSIS  12037.61     466122.80\n",
       "3      13         CACAPAVA DO SUL  13674.54     485535.86\n",
       "4     120             SAO GABRIEL  19912.38     533719.86"
      ]
     },
     "execution_count": 20,
     "metadata": {},
     "output_type": "execute_result"
    }
   ],
   "source": [
    "#carregando o conjunto de dados\n",
    "dados = pd.read_csv('dados.csv', sep = ';')\n",
    "dados.head()"
   ]
  },
  {
   "cell_type": "code",
   "execution_count": 4,
   "metadata": {},
   "outputs": [
    {
     "data": {
      "text/plain": [
       "(187, 4)"
      ]
     },
     "execution_count": 4,
     "metadata": {},
     "output_type": "execute_result"
    }
   ],
   "source": [
    "#verificando o tamanho do conjunto de dados\n",
    "dados.shape"
   ]
  },
  {
   "cell_type": "markdown",
   "metadata": {},
   "source": [
    "EXPLORAÇÃO DE DADOS"
   ]
  },
  {
   "cell_type": "code",
   "execution_count": 5,
   "metadata": {},
   "outputs": [
    {
     "data": {
      "text/plain": [
       "MUNICIPIO\n",
       "AGUDO                         1\n",
       "AJURICABA                     1\n",
       "ALECRIM                       1\n",
       "ALMIRANTE TAMANDARE DO SUL    1\n",
       "ALTO FELIZ                    1\n",
       "AMARAL FERRADOR               1\n",
       "ARVOREZINHA                   1\n",
       "AUGUSTO PESTANA               1\n",
       "AUREA                         1\n",
       "BARAO DO COTEGIPE             1\n",
       "BARRA DO RIBEIRO              1\n",
       "BOSSOROCA                     1\n",
       "BOZANO                        1\n",
       "BRAGA                         1\n",
       "BUTIA                         1\n",
       "CACAPAVA DO SUL               1\n",
       "CACEQUI                       1\n",
       "CACHOEIRA DO SUL              1\n",
       "CAIBATE                       1\n",
       "CAMBARA DO SUL                1\n",
       "CAMPINA DAS MISSOES           1\n",
       "CANDIDO GODOI                 1\n",
       "CANGUCU                       1\n",
       "CAPAO DO CIPO                 1\n",
       "CARLOS GOMES                  1\n",
       "CATUIPE                       1\n",
       "CERRO BRANCO                  2\n",
       "CERRO LARGO                   1\n",
       "CHUI                          1\n",
       "CONDOR                        1\n",
       "                             ..\n",
       "SENTINELA DO SUL              1\n",
       "SETE DE SETEMBRO              1\n",
       "SILVEIRA MARTINS              1\n",
       "SOLEDADE                      1\n",
       "TAPERA                        1\n",
       "TAPES                         1\n",
       "TAQUARA                       2\n",
       "TAVARES                       1\n",
       "TIO HUGO                      1\n",
       "TIRADENTES DO SUL             1\n",
       "TRES ARROIOS                  1\n",
       "TRES COROAS                   1\n",
       "TRES DE MAIO                  1\n",
       "TRIUNFO                       1\n",
       "TUCUNDUVA                     1\n",
       "TUNAS                         1\n",
       "TUPANCI DO SUL                1\n",
       "TUPANCIRETA                   1\n",
       "TUPARENDI                     1\n",
       "UBIRETAMA                     1\n",
       "UNIAO DA SERRA                1\n",
       "URUGUAIANA                    1\n",
       "VACARIA                       1\n",
       "VALE DO SOL                   1\n",
       "VENANCIO AIRES                1\n",
       "VERA CRUZ                     1\n",
       "VIADUTOS                      1\n",
       "VICTOR GRAEFF                 1\n",
       "VILA MARIA                    1\n",
       "VILA NOVA DO SUL              1\n",
       "Length: 177, dtype: int64"
      ]
     },
     "execution_count": 5,
     "metadata": {},
     "output_type": "execute_result"
    }
   ],
   "source": [
    "#explorando dados\n",
    "#município\n",
    "municipio = dados.groupby(['MUNICIPIO']).size()\n",
    "municipio"
   ]
  },
  {
   "cell_type": "code",
   "execution_count": 6,
   "metadata": {},
   "outputs": [
    {
     "data": {
      "text/plain": [
       "count       187.000000\n",
       "mean      19808.741337\n",
       "std       16984.223244\n",
       "min        8236.630000\n",
       "25%       13621.455000\n",
       "50%       17206.190000\n",
       "75%       21429.165000\n",
       "max      223848.220000\n",
       "Name: PIB, dtype: float64"
      ]
     },
     "execution_count": 6,
     "metadata": {},
     "output_type": "execute_result"
    }
   ],
   "source": [
    "#explorando dados\n",
    "#PIB\n",
    "dados['PIB'].describe()"
   ]
  },
  {
   "cell_type": "code",
   "execution_count": 7,
   "metadata": {},
   "outputs": [
    {
     "data": {
      "text/plain": [
       "Text(0.5, 1.0, 'Municípios')"
      ]
     },
     "execution_count": 7,
     "metadata": {},
     "output_type": "execute_result"
    },
    {
     "data": {
      "image/png": "[encoded data removed]",
      "text/plain": [
       "<Figure size 432x288 with 1 Axes>"
      ]
     },
     "metadata": {
      "needs_background": "light"
     },
     "output_type": "display_data"
    }
   ],
   "source": [
    "#plotando boxplot para melhor visualização dos dados\n",
    "srn.boxplot(dados['PIB']).set_title('Municípios')"
   ]
  },
  {
   "cell_type": "code",
   "execution_count": 8,
   "metadata": {},
   "outputs": [
    {
     "data": {
      "text/plain": [
       "Text(0.5, 1.0, 'Municípios')"
      ]
     },
     "execution_count": 8,
     "metadata": {},
     "output_type": "execute_result"
    },
    {
     "data": {
      "image/png": "[encoded data removed]",
      "text/plain": [
       "<Figure size 432x288 with 1 Axes>"
      ]
     },
     "metadata": {
      "needs_background": "light"
     },
     "output_type": "display_data"
    }
   ],
   "source": [
    "#plotando gráfico de distribuição para melhor visualização dos dados\n",
    "srn.distplot(dados['PIB']).set_title('Municípios')"
   ]
  },
  {
   "cell_type": "code",
   "execution_count": 9,
   "metadata": {},
   "outputs": [
    {
     "data": {
      "text/plain": [
       "count    1.870000e+02\n",
       "mean     1.299844e+05\n",
       "std      1.615491e+05\n",
       "min      1.721300e+02\n",
       "25%      5.251718e+04\n",
       "50%      8.422816e+04\n",
       "75%      1.538961e+05\n",
       "max      1.442760e+06\n",
       "Name: VALOREMPENHO, dtype: float64"
      ]
     },
     "execution_count": 9,
     "metadata": {},
     "output_type": "execute_result"
    }
   ],
   "source": [
    "#explorando dados\n",
    "#valor empenho\n",
    "dados['VALOREMPENHO'].describe()"
   ]
  },
  {
   "cell_type": "code",
   "execution_count": 10,
   "metadata": {},
   "outputs": [
    {
     "data": {
      "text/plain": [
       "Text(0.5, 1.0, 'Municípios')"
      ]
     },
     "execution_count": 10,
     "metadata": {},
     "output_type": "execute_result"
    },
    {
     "data": {
      "image/png": "[encoded data removed]",
      "text/plain": [
       "<Figure size 432x288 with 1 Axes>"
      ]
     },
     "metadata": {
      "needs_background": "light"
     },
     "output_type": "display_data"
    }
   ],
   "source": [
    "#plotando boxplot para melhor visualização dos dados\n",
    "srn.boxplot(dados['VALOREMPENHO']).set_title('Municípios')"
   ]
  },
  {
   "cell_type": "code",
   "execution_count": 11,
   "metadata": {},
   "outputs": [
    {
     "data": {
      "text/plain": [
       "Text(0.5, 1.0, 'Municípios')"
      ]
     },
     "execution_count": 11,
     "metadata": {},
     "output_type": "execute_result"
    },
    {
     "data": {
      "image/png": "[encoded data removed]",
      "text/plain": [
       "<Figure size 432x288 with 1 Axes>"
      ]
     },
     "metadata": {
      "needs_background": "light"
     },
     "output_type": "display_data"
    }
   ],
   "source": [
    "#plotando gráfico de distribuição para melhor visualização dos dados\n",
    "srn.distplot(dados['VALOREMPENHO']).set_title('Municípios')"
   ]
  },
  {
   "cell_type": "code",
   "execution_count": 12,
   "metadata": {},
   "outputs": [
    {
     "data": {
      "text/plain": [
       "CODIGO\n",
       "1      1\n",
       "7      1\n",
       "9      1\n",
       "13     1\n",
       "14     1\n",
       "15     1\n",
       "16     1\n",
       "23     1\n",
       "28     1\n",
       "30     1\n",
       "33     1\n",
       "36     1\n",
       "38     1\n",
       "46     1\n",
       "51     1\n",
       "52     1\n",
       "53     1\n",
       "54     1\n",
       "55     1\n",
       "59     1\n",
       "60     1\n",
       "61     1\n",
       "65     1\n",
       "70     1\n",
       "75     1\n",
       "77     1\n",
       "79     1\n",
       "83     1\n",
       "95     1\n",
       "96     1\n",
       "      ..\n",
       "413    1\n",
       "414    1\n",
       "418    1\n",
       "421    1\n",
       "422    1\n",
       "423    1\n",
       "425    1\n",
       "436    1\n",
       "439    1\n",
       "440    1\n",
       "442    1\n",
       "445    1\n",
       "447    1\n",
       "453    1\n",
       "454    1\n",
       "455    1\n",
       "458    1\n",
       "459    1\n",
       "463    1\n",
       "469    1\n",
       "473    1\n",
       "476    1\n",
       "479    1\n",
       "482    1\n",
       "484    1\n",
       "486    1\n",
       "487    1\n",
       "490    1\n",
       "491    1\n",
       "496    1\n",
       "Length: 172, dtype: int64"
      ]
     },
     "execution_count": 12,
     "metadata": {},
     "output_type": "execute_result"
    }
   ],
   "source": [
    "#explorando dados\n",
    "#CÓDIGO\n",
    "codigo = dados.groupby(['CODIGO']).size()\n",
    "codigo"
   ]
  },
  {
   "cell_type": "markdown",
   "metadata": {},
   "source": [
    "EXTRAÇÃO DE INFORMAÇÕES DOS DADOS"
   ]
  },
  {
   "cell_type": "code",
   "execution_count": 13,
   "metadata": {},
   "outputs": [
    {
     "data": {
      "text/plain": [
       "MUNICIPIO\n",
       "TRIUNFO                      223848.22\n",
       "MUITOS CAPOES                 72353.72\n",
       "GARRUCHOS                     68672.25\n",
       "MATO LEITAO                   44384.87\n",
       "SANTA VITORIA DO PALMAR       44384.87\n",
       "NOVA BOA VISTA                43186.31\n",
       "SANTO ANTONIO DO PLANALTO     43186.31\n",
       "SANTA CRUZ DO SUL             40671.53\n",
       "CAPAO DO CIPO                 36739.78\n",
       "MULITERNO                     36496.42\n",
       "Name: PIB, dtype: float64"
      ]
     },
     "execution_count": 13,
     "metadata": {},
     "output_type": "execute_result"
    }
   ],
   "source": [
    "#verificando quais os municípios com maiores PIB\n",
    "\n",
    "dados2 = dados[['MUNICIPIO', 'PIB']]\n",
    "dados2\n",
    "\n",
    "agrup = dados2.groupby(['MUNICIPIO'])['PIB'].sum()\n",
    "agrup\n",
    "\n",
    "maxPIB = agrup.nlargest(10)\n",
    "maxPIB"
   ]
  },
  {
   "cell_type": "code",
   "execution_count": 14,
   "metadata": {},
   "outputs": [
    {
     "data": {
      "text/plain": [
       "Text(0.5, 1.0, 'Os 10 municípios com maiores PIB')"
      ]
     },
     "execution_count": 14,
     "metadata": {},
     "output_type": "execute_result"
    },
    {
     "data": {
      "image/png": "[encoded data removed]",
      "text/plain": [
       "<Figure size 432x288 with 1 Axes>"
      ]
     },
     "metadata": {
      "needs_background": "light"
     },
     "output_type": "display_data"
    }
   ],
   "source": [
    "#plotando grafico de barras com os maiores PIBs\n",
    "\n",
    "maxPIB.plot.bar(color = ['gray'], legend = True).set_title('Os 10 municípios com maiores PIB')"
   ]
  },
  {
   "cell_type": "code",
   "execution_count": 15,
   "metadata": {},
   "outputs": [
    {
     "data": {
      "text/plain": [
       "MUNICIPIO\n",
       "TRIUNFO                    1442759.82\n",
       "SANTANA DO LIVRAMENTO      1088666.10\n",
       "SANTO ANGELO                800669.92\n",
       "SAO GABRIEL                 533719.86\n",
       "CACAPAVA DO SUL             485535.86\n",
       "SAO FRANCISCO DE ASSIS      466122.80\n",
       "CERRO BRANCO                416481.00\n",
       "MONTE ALEGRE DOS CAMPOS     416481.00\n",
       "URUGUAIANA                  401124.62\n",
       "SAO LUIZ GONZAGA            385185.68\n",
       "Name: VALOREMPENHO, dtype: float64"
      ]
     },
     "execution_count": 15,
     "metadata": {},
     "output_type": "execute_result"
    }
   ],
   "source": [
    "#verificando quais os municípios com maior empenho\n",
    "\n",
    "dados3 = dados[['MUNICIPIO', 'VALOREMPENHO']]\n",
    "dados3\n",
    "\n",
    "agrup2 = dados3.groupby(['MUNICIPIO'])['VALOREMPENHO'].sum()\n",
    "agrup2\n",
    "\n",
    "maxEMP = agrup2.nlargest(10)\n",
    "maxEMP"
   ]
  },
  {
   "cell_type": "code",
   "execution_count": 16,
   "metadata": {},
   "outputs": [
    {
     "data": {
      "text/plain": [
       "Text(0.5, 1.0, 'Os 10 municípios com maiores empenhos')"
      ]
     },
     "execution_count": 16,
     "metadata": {},
     "output_type": "execute_result"
    },
    {
     "data": {
      "image/png": "[encoded data removed]",
      "text/plain": [
       "<Figure size 432x288 with 1 Axes>"
      ]
     },
     "metadata": {
      "needs_background": "light"
     },
     "output_type": "display_data"
    }
   ],
   "source": [
    "#plotando grafico de barras com os maiores empenhos\n",
    "\n",
    "maxEMP.plot.bar(color = ['gray'], legend = True).set_title('Os 10 municípios com maiores empenhos')"
   ]
  },
  {
   "cell_type": "code",
   "execution_count": 17,
   "metadata": {},
   "outputs": [
    {
     "data": {
      "text/plain": [
       "Text(0.5, 0, 'Empenho')"
      ]
     },
     "execution_count": 17,
     "metadata": {},
     "output_type": "execute_result"
    },
    {
     "data": {
      "image/png": "[encoded data removed]",
      "text/plain": [
       "<Figure size 432x288 with 1 Axes>"
      ]
     },
     "metadata": {
      "needs_background": "light"
     },
     "output_type": "display_data"
    }
   ],
   "source": [
    "#verificando se existe alguma relação entre o PIB do município e o seu respectivo empenho\n",
    "#plotando gráfico de dispersão\n",
    "plt.scatter(dados.PIB, dados.VALOREMPENHO, color = 'blue', facecolors = 'none', marker = '*')\n",
    "plt.title('Relação entre PIB e empenho')\n",
    "plt.ylabel('PIB')\n",
    "plt.xlabel('Empenho')"
   ]
  },
  {
   "cell_type": "markdown",
   "metadata": {},
   "source": [
    "Não existe relação bem definida entre as variáveis. Ou seja, um município com PIB maior não irá acarretar, necessariamente, em um empenho mais alto."
   ]
  },
  {
   "cell_type": "code",
   "execution_count": null,
   "metadata": {},
   "outputs": [],
   "source": []
  }
 ],
 "metadata": {
  "kernelspec": {
   "display_name": "Python 3",
   "language": "python",
   "name": "python3"
  },
  "language_info": {
   "codemirror_mode": {
    "name": "ipython",
    "version": 3
   },
   "file_extension": ".py",
   "mimetype": "text/x-python",
   "name": "python",
   "nbconvert_exporter": "python",
   "pygments_lexer": "ipython3",
   "version": "3.7.3"
  }
 },
 "nbformat": 4,
 "nbformat_minor": 2
}
